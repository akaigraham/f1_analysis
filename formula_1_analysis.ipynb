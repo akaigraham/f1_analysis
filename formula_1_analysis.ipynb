{
 "cells": [
  {
   "cell_type": "markdown",
   "id": "ef37e0f0",
   "metadata": {},
   "source": [
    "# Formula 1 Analysis"
   ]
  },
  {
   "cell_type": "markdown",
   "id": "b465b4b8",
   "metadata": {},
   "source": []
  },
  {
   "cell_type": "markdown",
   "id": "92c7d4c7",
   "metadata": {},
   "source": [
    "## Load and Explore Data"
   ]
  },
  {
   "cell_type": "code",
   "execution_count": 2,
   "id": "7d90631b",
   "metadata": {},
   "outputs": [
    {
     "name": "stderr",
     "output_type": "stream",
     "text": [
      "/Users/addingtongraham/opt/anaconda3/envs/keras-env/lib/python3.6/importlib/_bootstrap.py:219: RuntimeWarning: numpy.ufunc size changed, may indicate binary incompatibility. Expected 192 from C header, got 216 from PyObject\n",
      "  return f(*args, **kwds)\n",
      "/Users/addingtongraham/opt/anaconda3/envs/keras-env/lib/python3.6/importlib/_bootstrap.py:219: RuntimeWarning: numpy.ufunc size changed, may indicate binary incompatibility. Expected 192 from C header, got 216 from PyObject\n",
      "  return f(*args, **kwds)\n",
      "/Users/addingtongraham/opt/anaconda3/envs/keras-env/lib/python3.6/importlib/_bootstrap.py:219: RuntimeWarning: numpy.ufunc size changed, may indicate binary incompatibility. Expected 192 from C header, got 216 from PyObject\n",
      "  return f(*args, **kwds)\n"
     ]
    }
   ],
   "source": [
    "# import libraries\n",
    "import pandas as pd\n",
    "import numpy as np\n",
    "import matplotlib.pyplot as plt\n",
    "import seaborn as sns"
   ]
  },
  {
   "cell_type": "code",
   "execution_count": 14,
   "id": "af43bb9a",
   "metadata": {},
   "outputs": [],
   "source": [
    "# datasets filepath\n",
    "data_filepath = '~/Documents/datasets/Formula 1 Race Data/'"
   ]
  },
  {
   "cell_type": "code",
   "execution_count": 17,
   "id": "111ea302",
   "metadata": {},
   "outputs": [],
   "source": [
    "# load various datasets\n",
    "circuits = pd.read_csv(data_filepath+'circuits.csv', encoding='latin-1')\n",
    "constructor_results = pd.read_csv(data_filepath+'constructorResults.csv', encoding='latin-1')\n",
    "constructors = pd.read_csv(data_filepath+'constructors.csv', encoding='latin-1')\n",
    "constructor_standings = pd.read_csv(data_filepath+'constructorStandings.csv', encoding='latin-1')\n",
    "drivers = pd.read_csv(data_filepath+'drivers.csv', encoding='latin-1')\n",
    "driver_standings = pd.read_csv(data_filepath+'driverStandings.csv', encoding='latin-1')\n",
    "lap_times = pd.read_csv(data_filepath+'lapTimes.csv', encoding='latin-1')\n",
    "pit_stops = pd.read_csv(data_filepath+'pitStops.csv', encoding='latin-1')\n",
    "qualifying = pd.read_csv(data_filepath+'qualifying.csv', encoding='latin-1')\n",
    "races = pd.read_csv(data_filepath+'races.csv', encoding='latin-1')\n",
    "results = pd.read_csv(data_filepath+'results.csv', encoding='latin-1')\n",
    "seasons = pd.read_csv(data_filepath+'seasons.csv', encoding='latin-1')\n",
    "status = pd.read_csv(data_filepath+'status.csv', encoding='latin-1')"
   ]
  },
  {
   "cell_type": "code",
   "execution_count": null,
   "id": "d04c8338",
   "metadata": {},
   "outputs": [],
   "source": []
  }
 ],
 "metadata": {
  "kernelspec": {
   "display_name": "Python 3",
   "language": "python",
   "name": "python3"
  },
  "language_info": {
   "codemirror_mode": {
    "name": "ipython",
    "version": 3
   },
   "file_extension": ".py",
   "mimetype": "text/x-python",
   "name": "python",
   "nbconvert_exporter": "python",
   "pygments_lexer": "ipython3",
   "version": "3.6.13"
  }
 },
 "nbformat": 4,
 "nbformat_minor": 5
}
